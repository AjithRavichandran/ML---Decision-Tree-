{
 "cells": [
  {
   "cell_type": "code",
   "execution_count": 9,
   "id": "b95a0f36-7acb-4daa-b44b-b69dbe03d67e",
   "metadata": {},
   "outputs": [],
   "source": [
    "import pickle"
   ]
  },
  {
   "cell_type": "code",
   "execution_count": 10,
   "id": "6c127530-2c70-4b71-83be-5c7b3db50c8e",
   "metadata": {},
   "outputs": [],
   "source": [
    "load=pickle.load(open('Decision Tree - Friedman_mse.sav','rb'))"
   ]
  },
  {
   "cell_type": "code",
   "execution_count": 11,
   "id": "4b716b65-b231-4596-b1e4-149a00d311f8",
   "metadata": {},
   "outputs": [
    {
     "name": "stdin",
     "output_type": "stream",
     "text": [
      "Enter your R&D Spend: 3434\n",
      "Enter your Administration Spend: 653\n",
      "Enter your Market spent: 134\n",
      "State Florida 0 or 1: 0\n",
      "State New York 0 or 1: 0\n"
     ]
    }
   ],
   "source": [
    "RD_Spend=float(input(\"Enter your R&D Spend:\"))\n",
    "Administration=float(input(\"Enter your Administration Spend:\"))\n",
    "Marketing_Spend=float(input(\"Enter your Market spent:\"))\n",
    "State_Florida=int(input(\"State Florida 0 or 1:\"))\n",
    "State_New_York=int(input(\"State New York 0 or 1:\"))"
   ]
  },
  {
   "cell_type": "code",
   "execution_count": 13,
   "id": "6163f9fa-8aac-4805-986b-28e22a38b432",
   "metadata": {},
   "outputs": [
    {
     "name": "stderr",
     "output_type": "stream",
     "text": [
      "C:\\Anaconda3\\Lib\\site-packages\\sklearn\\base.py:493: UserWarning: X does not have valid feature names, but DecisionTreeRegressor was fitted with feature names\n",
      "  warnings.warn(\n"
     ]
    }
   ],
   "source": [
    "result=load.predict([[RD_Spend,Administration,Marketing_Spend,State_Florida,State_New_York]])"
   ]
  },
  {
   "cell_type": "code",
   "execution_count": 14,
   "id": "9e04bd84-6ec5-4577-847b-0723b62d49fa",
   "metadata": {},
   "outputs": [
    {
     "data": {
      "text/plain": [
       "array([35673.41])"
      ]
     },
     "execution_count": 14,
     "metadata": {},
     "output_type": "execute_result"
    }
   ],
   "source": [
    "result"
   ]
  },
  {
   "cell_type": "code",
   "execution_count": null,
   "id": "5283488e-da02-423f-b6a5-91cf0c342aab",
   "metadata": {},
   "outputs": [],
   "source": []
  }
 ],
 "metadata": {
  "kernelspec": {
   "display_name": "Python 3 (ipykernel)",
   "language": "python",
   "name": "python3"
  },
  "language_info": {
   "codemirror_mode": {
    "name": "ipython",
    "version": 3
   },
   "file_extension": ".py",
   "mimetype": "text/x-python",
   "name": "python",
   "nbconvert_exporter": "python",
   "pygments_lexer": "ipython3",
   "version": "3.12.4"
  }
 },
 "nbformat": 4,
 "nbformat_minor": 5
}
